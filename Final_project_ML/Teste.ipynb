{
 "cells": [
  {
   "cell_type": "code",
   "execution_count": 16,
   "metadata": {},
   "outputs": [
    {
     "name": "stdout",
     "output_type": "stream",
     "text": [
      "Pipeline(memory=None,\n",
      "     steps=[('scaler', StandardScaler(copy=True, with_mean=True, with_std=True)), ('selector', SelectKBest(k=13, score_func=<function f_classif at 0x000000000B4DB438>)), ('svm', SVC(C=1000, cache_size=200, class_weight=None, coef0=0.0,\n",
      "  decision_function_shape='ovr', degree=2, gamma=0.1, kernel='poly',\n",
      "  max_iter=-1, probability=False, random_state=None, shrinking=True,\n",
      "  tol=0.001, verbose=False))])\n",
      "\tAccuracy: 0.81300\tPrecision: 0.34219\tRecall: 0.33500\tF1: 0.33855\tF2: 0.33641\n",
      "\tTotal predictions: 14000\tTrue positives:  670\tFalse positives: 1288\tFalse negatives: 1330\tTrue negatives: 10712\n",
      "\n",
      "Pipeline(memory=None,\n",
      "     steps=[('scaler', StandardScaler(copy=True, with_mean=True, with_std=True)), ('svm', SVC(C=1000, cache_size=200, class_weight=None, coef0=0.0,\n",
      "  decision_function_shape='ovr', degree=2, gamma=0.1, kernel='poly',\n",
      "  max_iter=-1, probability=False, random_state=None, shrinking=True,\n",
      "  tol=0.001, verbose=False))])\n",
      "\tAccuracy: 0.82886\tPrecision: 0.39919\tRecall: 0.39200\tF1: 0.39556\tF2: 0.39342\n",
      "\tTotal predictions: 14000\tTrue positives:  784\tFalse positives: 1180\tFalse negatives: 1216\tTrue negatives: 10820\n",
      "\n"
     ]
    }
   ],
   "source": [
    "%run ./poi_id.py"
   ]
  },
  {
   "cell_type": "code",
   "execution_count": 17,
   "metadata": {},
   "outputs": [
    {
     "data": {
      "text/plain": [
       "['poi',\n",
       " 'bonus',\n",
       " 'salary',\n",
       " 'exercised_stock_options',\n",
       " 'total_stock_value',\n",
       " 'p_bonus',\n",
       " 'long_term_incentive',\n",
       " 'deferred_income',\n",
       " 'from_poi_to_this_person',\n",
       " 'shared_receipt_with_poi',\n",
       " 'p_shared_poi',\n",
       " 'total_payments',\n",
       " 'restricted_stock',\n",
       " 'other']"
      ]
     },
     "execution_count": 17,
     "metadata": {},
     "output_type": "execute_result"
    }
   ],
   "source": [
    "best_features"
   ]
  },
  {
   "cell_type": "code",
   "execution_count": null,
   "metadata": {},
   "outputs": [],
   "source": []
  }
 ],
 "metadata": {
  "kernelspec": {
   "display_name": "Python 2",
   "language": "python",
   "name": "python2"
  },
  "language_info": {
   "codemirror_mode": {
    "name": "ipython",
    "version": 2
   },
   "file_extension": ".py",
   "mimetype": "text/x-python",
   "name": "python",
   "nbconvert_exporter": "python",
   "pygments_lexer": "ipython2",
   "version": "2.7.15"
  }
 },
 "nbformat": 4,
 "nbformat_minor": 2
}
